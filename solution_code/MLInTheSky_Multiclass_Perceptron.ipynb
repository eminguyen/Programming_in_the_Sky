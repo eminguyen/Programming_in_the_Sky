{
 "cells": [
  {
   "cell_type": "markdown",
   "metadata": {},
   "source": [
    "# Applications of Python: Intro to Machine Learning"
   ]
  },
  {
   "cell_type": "code",
   "execution_count": null,
   "metadata": {
    "collapsed": true
   },
   "outputs": [],
   "source": [
    "import numpy as np\n",
    "import matplotlib.pyplot as plt\n",
    "import random\n",
    "\n",
    "# Imports for perceptron.\n",
    "from sklearn.linear_model import Perceptron\n",
    "from mlxtend.plotting import plot_decision_regions"
   ]
  },
  {
   "cell_type": "markdown",
   "metadata": {},
   "source": [
    "## Multiclass Perceptron\n",
    "\n",
    "Description: Programming in the Sky Workshop 2018 - Advanced Python\n",
    "Session (Applications of Python: Machine Learning).\n",
    "\n",
    "### Overview of Project:\n",
    "\n",
    "Part A  \n",
    "- Load in the data set data0.txt. This has 2-d data in four classes (coded as 0,1,2,3). Each row consists of three numbers: the two coordinates of the data points and the label.\n",
    "\n",
    "Part B\n",
    "-  Run the multiclass Perceptron algorithm to learn a classifier.\n",
    "- Create a plot that shows all the data points (with different colors and shapes for different labels) as well as the decision region."
   ]
  },
  {
   "cell_type": "markdown",
   "metadata": {},
   "source": [
    "### Helper functions"
   ]
  },
  {
   "cell_type": "markdown",
   "metadata": {},
   "source": [
    "**Label pseudo-code**  \n",
    "\n",
    "$\\texttt{routine label(w, b, x)}$  \n",
    "$\\quad\\texttt{Create an array to store the results of each dot product.}$  \n",
    "$\\quad\\texttt{Loop through w and b (i.e. with j as your counter)}$  \n",
    "$\\quad \\quad\\texttt{Calculate } w_j \\cdot x + b_j \\texttt{, and record the result.}$  \n",
    "$\\quad\\texttt{Return the index of the largest result.}$  "
   ]
  },
  {
   "cell_type": "code",
   "execution_count": 3,
   "metadata": {
    "collapsed": true
   },
   "outputs": [],
   "source": [
    "def label(w, b, x):\n",
    "    \"\"\"Label the datapoint x using the learned weights and biases.\n",
    "    \n",
    "    Parameters: \n",
    "        w is a k-dimensional vector of d-dimensional vectors\n",
    "        b is a k-dimensional vector of scalar terms\n",
    "     \n",
    "    Returns: On instance x, predict label arg maxj (wj · x + bj )\n",
    "    \"\"\"\n",
    "    pass # TODO replace this with valid code."
   ]
  },
  {
   "cell_type": "markdown",
   "metadata": {},
   "source": [
    "**Perceptron pseudo-code**\n",
    "\n",
    "```\n",
    "1) Initialize k w-vectors in d-dimensions and k b-values to 0\n",
    "2) Loop through the entire data set while some training point(x, y), i.e. (data point, label) is misclassified.\n",
    "    a) Predict a data point x using w and b (call your label function).\n",
    "    b) Check if the prediction matches the actual label. If so, do nothing. If not:\n",
    "        b.a) for the correct label y:\n",
    "        - w[y] = w[y] + x\n",
    "        - b[y] = b[y] + 1\n",
    "        for incorrect label y_:\n",
    "            - w[y_] = w[y_] - x\n",
    "            - b[y_] = b[y_] - 1\n",
    "```"
   ]
  },
  {
   "cell_type": "code",
   "execution_count": null,
   "metadata": {
    "collapsed": true
   },
   "outputs": [],
   "source": [
    "def multi_perceptron(data, labels):\n",
    "    \"\"\"\n",
    "    Setting: X = Rd and Y = {1,2,...,k}\n",
    "    Model: w1,...,wk ∈ Rd and b1,...,bk ∈ R\n",
    "    Description: Creates a multi-class Perceptron model.\n",
    "    \"\"\"\n",
    "    # TODO Your code here. Hopefully the comments above will \n",
    "    # lead you in the right direction.\n",
    "    pass\n"
   ]
  },
  {
   "cell_type": "markdown",
   "metadata": {},
   "source": [
    "### Main Program Driver"
   ]
  },
  {
   "cell_type": "code",
   "execution_count": null,
   "metadata": {
    "collapsed": true
   },
   "outputs": [],
   "source": [
    "# Read in a file to classify.\n",
    "input_data = np.loadtxt('data0.txt')"
   ]
  },
  {
   "cell_type": "code",
   "execution_count": null,
   "metadata": {
    "collapsed": true,
    "editable": false
   },
   "outputs": [],
   "source": [
    "##############################################################################\n",
    "# Main program. Do NOT edit any code in this cell.\n",
    "##############################################################################\n",
    "data = input_data[:, [0, 1]].astype(int)\n",
    "labels = input_data[:, 2].astype(int)\n",
    "\n",
    "# Run the multiclass perceptron algorithm\n",
    "w, b = multi_perceptron(data, labels)\n",
    "\n",
    "# Plot the decision boundaries (fit something random so it's happy)\n",
    "clf_m = Perceptron()\n",
    "clf_m.fit(np.random.randint(2, size=(4, 2)), np.arange(0, 4).reshape(4, 1))\n",
    "\n",
    "# Use the w & b calculated coefficients\n",
    "clf_m.coef_ = np.asarray(w)\n",
    "clf_m.intercept_ = b\n",
    "\n",
    "# Plot the result\n",
    "plot_decision_regions(data, labels, clf_m)\n",
    "plt.show()"
   ]
  }
 ],
 "metadata": {
  "kernelspec": {
   "display_name": "Python 3",
   "language": "python",
   "name": "python3"
  },
  "language_info": {
   "codemirror_mode": {
    "name": "ipython",
    "version": 3
   },
   "file_extension": ".py",
   "mimetype": "text/x-python",
   "name": "python",
   "nbconvert_exporter": "python",
   "pygments_lexer": "ipython3",
   "version": "3.6.2"
  },
  "varInspector": {
   "cols": {
    "lenName": 16,
    "lenType": 16,
    "lenVar": 40
   },
   "kernels_config": {
    "python": {
     "delete_cmd_postfix": "",
     "delete_cmd_prefix": "del ",
     "library": "var_list.py",
     "varRefreshCmd": "print(var_dic_list())"
    },
    "r": {
     "delete_cmd_postfix": ") ",
     "delete_cmd_prefix": "rm(",
     "library": "var_list.r",
     "varRefreshCmd": "cat(var_dic_list()) "
    }
   },
   "types_to_exclude": [
    "module",
    "function",
    "builtin_function_or_method",
    "instance",
    "_Feature"
   ],
   "window_display": false
  }
 },
 "nbformat": 4,
 "nbformat_minor": 2
}
