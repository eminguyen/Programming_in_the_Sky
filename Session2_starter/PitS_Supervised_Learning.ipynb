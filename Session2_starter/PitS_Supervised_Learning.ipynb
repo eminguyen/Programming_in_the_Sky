{
 "cells": [
  {
   "cell_type": "markdown",
   "metadata": {},
   "source": [
    "# Applications of Python: Intro to Machine Learning"
   ]
  },
  {
   "cell_type": "markdown",
   "metadata": {},
   "source": [
    "## Hello World of Machine Learning: The Iris Dataset\n",
    "1. Read in the iris dataset.\n",
    "2. Print out the dataset's keys so we know what info we have access to.\n",
    "3. Plot two features of the iris flowers."
   ]
  },
  {
   "cell_type": "code",
   "execution_count": 6,
   "metadata": {},
   "outputs": [
    {
     "data": {
      "image/png": "[encoded data removed]",
      "text/plain": [
       "<matplotlib.figure.Figure at 0x1a15f118d0>"
      ]
     },
     "metadata": {},
     "output_type": "display_data"
    },
    {
     "name": "stdout",
     "output_type": "stream",
     "text": [
      "(64,)\n"
     ]
    }
   ],
   "source": [
    "\"\"\"\n",
    "Part 1: HelloWorldML. Reading the Iris Dataset.\n",
    "\"\"\"\n",
    "# TODO: Load the iris dataset\n",
    "import sklearn.datasets as ds\n",
    "iris = ds.load_iris()\n",
    "\n",
    "# Print out the dataset keys, so we know what info we have access to\n",
    "iris.keys()\n",
    "\n",
    "import numpy as np\n",
    "import matplotlib.pyplot as plt \n",
    "\n",
    "feat1_idx = 0 \n",
    "feat2_idx = 3 \n",
    "plt.scatter(iris.data[:, feat1_idx], iris.data[:, feat2_idx],\n",
    "            c=iris.target, cmap=plt.cm.get_cmap('winter', 3))\n",
    "def fmt(i, *args):\n",
    "    return iris.target_names[int(i)]\n",
    "plt.colorbar(ticks=[0, 1, 2], format=plt.FuncFormatter(fmt))\n",
    "plt.xlabel(iris.feature_names[feat1_idx])\n",
    "plt.ylabel(iris.feature_names[feat2_idx]);\n",
    "plt.show()\n",
    "\n",
    "digits = ds.load_digits()\n",
    "print(digits.data[0].shape)"
   ]
  },
  {
   "cell_type": "markdown",
   "metadata": {},
   "source": [
    "## Supervised Learning: k-NN Classification.\n",
    "1. Read in the iris dataset.\n",
    "2. Train a kNN classifier model.\n",
    "3. Predict a flower.\n",
    "4. Plot the kNN classifier boundaries."
   ]
  },
  {
   "cell_type": "code",
   "execution_count": 10,
   "metadata": {},
   "outputs": [
    {
     "name": "stdout",
     "output_type": "stream",
     "text": [
      "['setosa']\n"
     ]
    }
   ],
   "source": [
    "\"\"\"\n",
    "Part 2: Supervised Learning. k-Nearest-Neighbor (k-NN) classification.\n",
    "\"\"\"\n",
    "from sklearn.datasets import load_iris\n",
    "from sklearn.neighbors import KNeighborsClassifier\n",
    "import matplotlib.pyplot as plt \n",
    "import plotfuncs as pf # make_meshgrid() and plot_contours()\n",
    "\n",
    "# Classification - KNN\n",
    "from sklearn.datasets import load_iris\n",
    "from sklearn.neighbors import KNeighborsClassifier\n",
    "iris = load_iris()\n",
    "\n",
    "data, labels = iris.data, iris.target\n",
    "\n",
    "kNN = KNeighborsClassifier(n_neighbors=1)\n",
    "kNN.fit(data, labels)\n",
    "\n",
    "# Predict a 2cm x 2cm sepal and 5cm x 3cm petal.\n",
    "result = kNN.predict([[2, 2, 5, 3],])\n",
    "print(iris.target_names[result])\n",
    "\n",
    "# TODO: Exercise 1 - plot the classifier boundaries (use the best 2 features)\n",
    "feat1_idx = 0 \n",
    "feat2_idx = 3\n",
    "data = data[:, (feat1_idx, feat2_idx)]\n",
    "\n",
    "# Plot the boundaries.\n",
    "xx, yy = pf.make_meshgrid(data[:, 0], data[:, 1], 100)\n",
    "pf.plot_contours(plt, kNN, xx, yy, cmap=plt.cm.get_cmap('winter')) \n",
    "plt.scatter(data[:, 0], data[:, 1], c=labels, cmap=plt.cm.get_cmap('autumn'))\n",
    "plt.show()"
   ]
  },
  {
   "cell_type": "markdown",
   "metadata": {},
   "source": [
    "## Supervised Learning: Support Vector Classifiers / Machines\n",
    "1. Make blobs (already done).\n",
    "2. Train a linear SVC model.\n",
    "3. Plot the decision boundaries (with the support vectors)."
   ]
  },
  {
   "cell_type": "code",
   "execution_count": null,
   "metadata": {
    "collapsed": true
   },
   "outputs": [],
   "source": [
    "\"\"\"\n",
    "Part 3: Support Vector Classifiers / Machines.\n",
    "\"\"\"\n",
    "from sklearn.datasets.samples_generator import make_blobs\n",
    "\n",
    "# Generate random set\n",
    "X, y = make_blobs(n_samples=100, centers=2, random_state=0, cluster_std=0.5)\n",
    "\n",
    "# TODO: Learn a linear SVC\n",
    "\n",
    "# TODO: Plot the same as the above, but with the support vectors\n",
    "plt.scatter(_________);\n",
    "plt.scatter(clf.support_vectors_[:, 0], clf.support_vectors_[:, 1])\n",
    "pf.plot_svc_decision_function(clf)\n",
    "plt.show()\n"
   ]
  },
  {
   "cell_type": "markdown",
   "metadata": {},
   "source": [
    "## Supervised Learning: Kernel SVC/SVM\n",
    "1. Make blobs (already done).\n",
    "2. Train a linear SVC model.\n",
    "3. Plot the decision boundaries.\n",
    "4. Train an RBF kernel SVC model.\n",
    "5. Plot the decision boundaries."
   ]
  },
  {
   "cell_type": "code",
   "execution_count": null,
   "metadata": {
    "collapsed": true
   },
   "outputs": [],
   "source": [
    "\"\"\"\n",
    "Part 3 (cont.): SVC (kernel methods)\n",
    "\"\"\"\n",
    "from sklearn.datasets.samples_generator import make_circles\n",
    "X, y = make_circles(100, factor=.1, noise=.1)\n",
    "\n",
    "# TODO: Learn a linear SVC\n",
    "\n",
    "# TODO: Plot the dataset on a scatter plot, show SVC decision boundaries\n",
    "\n",
    "# TODO: Learn a SVC with RBF kernel\n",
    "\n",
    "# TODO: Plot the dataset, decision boundaries, and support vectors\n",
    "plt.scatter(clf.support_vectors_[:, 0], clf.support_vectors_[:, 1])\n",
    "plt.show()\n"
   ]
  },
  {
   "cell_type": "markdown",
   "metadata": {},
   "source": [
    "## Supervised Learning: SVC/SVM Exercises.\n",
    "1. Load the Iris dataset, only plotting setosa and versicolor using the sepal width and petal width features.\n",
    "2. Train a linear SVC model and plot the decision boundaries.\n",
    "3. Load all Iris dataset, again only using the sepal width and petal width features.\n",
    "4. Train a linear SVC model, and plot the decision boundaries (use make_meshgrid and plot_contours).\n",
    "5. Load the MNIST handwritten digit dataset, and train a linear SVC model "
   ]
  },
  {
   "cell_type": "code",
   "execution_count": null,
   "metadata": {
    "collapsed": true
   },
   "outputs": [],
   "source": [
    "\"\"\"\n",
    "Part 3 Exercises.\n",
    "\"\"\"\n",
    "import numpy as np\n",
    "import matplotlib.pyplot as plt\n",
    "from sklearn.datasets import load_iris\n",
    "import plotfuncs as pf"
   ]
  },
  {
   "cell_type": "code",
   "execution_count": null,
   "metadata": {
    "collapsed": true
   },
   "outputs": [],
   "source": [
    "# Exercise 1\n",
    "\n",
    "# TODO: Load Iris set. Only plot setosa and versicolor.\n",
    "    \n",
    "# TODO: Plot with sepal width / petal width\n"
   ]
  },
  {
   "cell_type": "code",
   "execution_count": null,
   "metadata": {
    "collapsed": true
   },
   "outputs": [],
   "source": [
    "# Exercise 2\n",
    "\n",
    "# TODO: Train a Support Vector Classifier model\n",
    "\n",
    "# TODO: Plot dataset and SVC decision boundaries with support vectors\n"
   ]
  },
  {
   "cell_type": "code",
   "execution_count": null,
   "metadata": {
    "collapsed": true
   },
   "outputs": [],
   "source": [
    "# Exercise 3\n",
    "# TODO: Plot entire dataset, using sepal & petal width"
   ]
  },
  {
   "cell_type": "code",
   "execution_count": null,
   "metadata": {
    "collapsed": true
   },
   "outputs": [],
   "source": [
    "# Exercise 4\n",
    "# TODO: Learn a Support Vector Classifier on data\n",
    "\n",
    "# Plot SVC decision\n",
    "xx, yy = pf.make_meshgrid(data[:, 0], data[:, 1], h=500)\n",
    "pf.plot_contours(plt, clf, xx, yy, cmap='winter_r')\n",
    "plt.scatter(data[:, 0], data[:, 1], c=labels, cmap='autumn');\n",
    "plt.show()"
   ]
  },
  {
   "cell_type": "code",
   "execution_count": null,
   "metadata": {
    "collapsed": true
   },
   "outputs": [],
   "source": [
    "# Exercise 5: Use SVC to predict the MNIST test set, and visualize the errors.\n",
    "# http://yann.lecun.com/exdb/mnist/\n",
    "import numpy as np\n",
    "from sklearn import svm\n",
    "import pickle\n",
    "import os.path\n",
    "import sys\n",
    "\n",
    "if not os.path.isfile('training_set_images.npy'):\n",
    "    print(\"Warning: Could not find NPY files of the MNIST data set.\")\n",
    "    print(\"Running loader.py.\")\n",
    "    import loader\n",
    "\n",
    "# TODO: Load the training set. You will need to use .ravel() for the labels.\n",
    "# The training data is stored in training_set_images.npy, with labels in training_set_labels.npy.\n",
    "print('Loading training set...')\n",
    "train_x = \n",
    "train_y = \n",
    "\n",
    "# TODO: Load the test set. You will need to use .ravel() for the labels.\n",
    "# The test data is stored in test_set_images.npy, with labels in test_set_labels.npy.\n",
    "print('Loading test set...')\n",
    "test_x = \n",
    "test_y = \n",
    "\n",
    "print('Generating LinearSVC Model...')\n",
    "C_val =\n",
    "if not os.path.isfile('MNIST_linearSVC_' + str(C_val) + '.sav'):\n",
    "    # TODO: Create a LinearSVC model, with key param loss=hinge.\n",
    "    # TODO: Train the model.\n",
    "    pickle.dump(model, open('MNIST_linearSVC_' + str(C_val) + '.sav', 'wb'))\n",
    "\n",
    "print('Done.')\n",
    "model = pickle.load(open('MNIST_linearSVC_' + str(C_val) + '.sav', 'rb'))\n",
    "\n",
    "print('Calculating training error:')\n",
    "# TODO make predictions\n",
    "error = # TODO\n",
    "print(\"Training error for LinearSVC, C=\", C_val, \": \", error)\n",
    "\n",
    "print('Calculating test error:')\n",
    "# TODO make predictions\n",
    "error = # TODO\n",
    "print(\"Test error for LinearSVC, C=\", C_val, \": \", error)\n",
    "\n",
    "# Pick out 5 random ones to show\n",
    "num_to_show = 5\n",
    "inds = np.random.choice((np.where(predict_values != test_y))[0], num_to_show)\n",
    "\n",
    "import matplotlib.pyplot as plt\n",
    "for i in range(0, num_to_show):\n",
    "    plt.imshow(test_x[inds[i],].reshape((28, 28)), cmap=plt.cm.gray)\n",
    "    plt.show()\n",
    "    print('Predicted: ', predict_values[inds[i]])\n",
    "    print('Actual: ', test_y[inds[i]])"
   ]
  }
 ],
 "metadata": {
  "kernelspec": {
   "display_name": "Python 3",
   "language": "python",
   "name": "python3"
  },
  "language_info": {
   "codemirror_mode": {
    "name": "ipython",
    "version": 3
   },
   "file_extension": ".py",
   "mimetype": "text/x-python",
   "name": "python",
   "nbconvert_exporter": "python",
   "pygments_lexer": "ipython3",
   "version": "3.6.2"
  }
 },
 "nbformat": 4,
 "nbformat_minor": 2
}
